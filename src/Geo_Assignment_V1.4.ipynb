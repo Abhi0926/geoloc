{
 "cells": [
  {
   "cell_type": "markdown",
   "metadata": {},
   "source": [
    "### Geo Dataset - Assignment"
   ]
  },
  {
   "cell_type": "markdown",
   "metadata": {},
   "source": [
    "#### Step1 : Data Cleaning"
   ]
  },
  {
   "cell_type": "code",
   "execution_count": 1,
   "metadata": {
    "collapsed": true
   },
   "outputs": [],
   "source": [
    "#Importing Libraries\n",
    "import pandas as pd\n",
    "import numpy as np\n",
    "import os "
   ]
  },
  {
   "cell_type": "code",
   "execution_count": 2,
   "metadata": {},
   "outputs": [
    {
     "name": "stdout",
     "output_type": "stream",
     "text": [
      "C:\\Users\\avi140\\geo_unlocode\n"
     ]
    }
   ],
   "source": [
    "# Set Working Directory\n",
    "work_dir = %cd ~/geo_unlocode"
   ]
  },
  {
   "cell_type": "code",
   "execution_count": 3,
   "metadata": {},
   "outputs": [
    {
     "data": {
      "text/plain": [
       "['.DS_Store',\n",
       " 'code-list.csv',\n",
       " 'country.txt',\n",
       " 'function_list.txt',\n",
       " 'Geo_Assignment.ipynb']"
      ]
     },
     "execution_count": 3,
     "metadata": {},
     "output_type": "execute_result"
    }
   ],
   "source": [
    "# Listing Work Dir to Check if all the required files are present\n",
    "os.listdir(work_dir) "
   ]
  },
  {
   "cell_type": "markdown",
   "metadata": {},
   "source": [
    "#### Load Country Data Set and Perform Basic Data Sanity Check\n"
   ]
  },
  {
   "cell_type": "code",
   "execution_count": 4,
   "metadata": {},
   "outputs": [],
   "source": [
    "# Reasing Country File \n",
    "countryDF = pd.read_csv('country.txt',sep=',')"
   ]
  },
  {
   "cell_type": "code",
   "execution_count": 5,
   "metadata": {},
   "outputs": [
    {
     "data": {
      "text/html": [
       "<div>\n",
       "<style>\n",
       "    .dataframe thead tr:only-child th {\n",
       "        text-align: right;\n",
       "    }\n",
       "\n",
       "    .dataframe thead th {\n",
       "        text-align: left;\n",
       "    }\n",
       "\n",
       "    .dataframe tbody tr th {\n",
       "        vertical-align: top;\n",
       "    }\n",
       "</style>\n",
       "<table border=\"1\" class=\"dataframe\">\n",
       "  <thead>\n",
       "    <tr style=\"text-align: right;\">\n",
       "      <th></th>\n",
       "      <th>CountryCode</th>\n",
       "      <th>CountryName</th>\n",
       "    </tr>\n",
       "  </thead>\n",
       "  <tbody>\n",
       "    <tr>\n",
       "      <th>0</th>\n",
       "      <td>AD</td>\n",
       "      <td>Andorra</td>\n",
       "    </tr>\n",
       "    <tr>\n",
       "      <th>1</th>\n",
       "      <td>AE</td>\n",
       "      <td>United Arab Emirates</td>\n",
       "    </tr>\n",
       "    <tr>\n",
       "      <th>2</th>\n",
       "      <td>AF</td>\n",
       "      <td>Afghanistan</td>\n",
       "    </tr>\n",
       "    <tr>\n",
       "      <th>3</th>\n",
       "      <td>AG</td>\n",
       "      <td>Antigua and Barbuda</td>\n",
       "    </tr>\n",
       "    <tr>\n",
       "      <th>4</th>\n",
       "      <td>AI</td>\n",
       "      <td>Anguilla</td>\n",
       "    </tr>\n",
       "  </tbody>\n",
       "</table>\n",
       "</div>"
      ],
      "text/plain": [
       "  CountryCode           CountryName\n",
       "0          AD               Andorra\n",
       "1          AE  United Arab Emirates\n",
       "2          AF           Afghanistan\n",
       "3          AG   Antigua and Barbuda\n",
       "4          AI              Anguilla"
      ]
     },
     "execution_count": 5,
     "metadata": {},
     "output_type": "execute_result"
    }
   ],
   "source": [
    "# top Five rows\n",
    "countryDF.head()"
   ]
  },
  {
   "cell_type": "code",
   "execution_count": 6,
   "metadata": {},
   "outputs": [
    {
     "data": {
      "text/plain": [
       "(249, 2)"
      ]
     },
     "execution_count": 6,
     "metadata": {},
     "output_type": "execute_result"
    }
   ],
   "source": [
    "#shape of Pandas Dataframe\n",
    "countryDF.shape"
   ]
  },
  {
   "cell_type": "code",
   "execution_count": 7,
   "metadata": {},
   "outputs": [
    {
     "name": "stdout",
     "output_type": "stream",
     "text": [
      "<class 'pandas.core.frame.DataFrame'>\n",
      "RangeIndex: 249 entries, 0 to 248\n",
      "Data columns (total 2 columns):\n",
      "CountryCode    248 non-null object\n",
      "CountryName    249 non-null object\n",
      "dtypes: object(2)\n",
      "memory usage: 4.0+ KB\n"
     ]
    }
   ],
   "source": [
    "#Basic info about the dataframe\n",
    "countryDF.info()"
   ]
  },
  {
   "cell_type": "code",
   "execution_count": 8,
   "metadata": {
    "collapsed": true
   },
   "outputs": [],
   "source": [
    "#Basic data Sanity Checks\n",
    "#Checking for Duplicates \n",
    "countryDF_Dups = countryDF[countryDF.duplicated()]"
   ]
  },
  {
   "cell_type": "code",
   "execution_count": 9,
   "metadata": {},
   "outputs": [
    {
     "data": {
      "text/plain": [
       "CountryCode    0\n",
       "CountryName    0\n",
       "dtype: int64"
      ]
     },
     "execution_count": 9,
     "metadata": {},
     "output_type": "execute_result"
    }
   ],
   "source": [
    "# No Dups at Row Level\n",
    "countryDF_Dups.count()"
   ]
  },
  {
   "cell_type": "code",
   "execution_count": 10,
   "metadata": {
    "collapsed": true
   },
   "outputs": [],
   "source": [
    "countryCD_Dups = countryDF[countryDF.duplicated([\"CountryCode\"])]"
   ]
  },
  {
   "cell_type": "code",
   "execution_count": 11,
   "metadata": {},
   "outputs": [
    {
     "data": {
      "text/html": [
       "<div>\n",
       "<style>\n",
       "    .dataframe thead tr:only-child th {\n",
       "        text-align: right;\n",
       "    }\n",
       "\n",
       "    .dataframe thead th {\n",
       "        text-align: left;\n",
       "    }\n",
       "\n",
       "    .dataframe tbody tr th {\n",
       "        vertical-align: top;\n",
       "    }\n",
       "</style>\n",
       "<table border=\"1\" class=\"dataframe\">\n",
       "  <thead>\n",
       "    <tr style=\"text-align: right;\">\n",
       "      <th></th>\n",
       "      <th>CountryCode</th>\n",
       "      <th>CountryName</th>\n",
       "    </tr>\n",
       "  </thead>\n",
       "  <tbody>\n",
       "  </tbody>\n",
       "</table>\n",
       "</div>"
      ],
      "text/plain": [
       "Empty DataFrame\n",
       "Columns: [CountryCode, CountryName]\n",
       "Index: []"
      ]
     },
     "execution_count": 11,
     "metadata": {},
     "output_type": "execute_result"
    }
   ],
   "source": [
    "countryCD_Dups"
   ]
  },
  {
   "cell_type": "code",
   "execution_count": 12,
   "metadata": {
    "collapsed": true
   },
   "outputs": [],
   "source": [
    "countryName_Dups = countryDF[countryDF.duplicated([\"CountryName\"])]"
   ]
  },
  {
   "cell_type": "code",
   "execution_count": 13,
   "metadata": {},
   "outputs": [
    {
     "data": {
      "text/html": [
       "<div>\n",
       "<style>\n",
       "    .dataframe thead tr:only-child th {\n",
       "        text-align: right;\n",
       "    }\n",
       "\n",
       "    .dataframe thead th {\n",
       "        text-align: left;\n",
       "    }\n",
       "\n",
       "    .dataframe tbody tr th {\n",
       "        vertical-align: top;\n",
       "    }\n",
       "</style>\n",
       "<table border=\"1\" class=\"dataframe\">\n",
       "  <thead>\n",
       "    <tr style=\"text-align: right;\">\n",
       "      <th></th>\n",
       "      <th>CountryCode</th>\n",
       "      <th>CountryName</th>\n",
       "    </tr>\n",
       "  </thead>\n",
       "  <tbody>\n",
       "  </tbody>\n",
       "</table>\n",
       "</div>"
      ],
      "text/plain": [
       "Empty DataFrame\n",
       "Columns: [CountryCode, CountryName]\n",
       "Index: []"
      ]
     },
     "execution_count": 13,
     "metadata": {},
     "output_type": "execute_result"
    }
   ],
   "source": [
    "countryName_Dups"
   ]
  },
  {
   "cell_type": "code",
   "execution_count": 14,
   "metadata": {},
   "outputs": [],
   "source": [
    "CountryCode_nan_rows = countryDF[countryDF['CountryCode'].isnull()]"
   ]
  },
  {
   "cell_type": "code",
   "execution_count": 15,
   "metadata": {},
   "outputs": [
    {
     "data": {
      "text/html": [
       "<div>\n",
       "<style>\n",
       "    .dataframe thead tr:only-child th {\n",
       "        text-align: right;\n",
       "    }\n",
       "\n",
       "    .dataframe thead th {\n",
       "        text-align: left;\n",
       "    }\n",
       "\n",
       "    .dataframe tbody tr th {\n",
       "        vertical-align: top;\n",
       "    }\n",
       "</style>\n",
       "<table border=\"1\" class=\"dataframe\">\n",
       "  <thead>\n",
       "    <tr style=\"text-align: right;\">\n",
       "      <th></th>\n",
       "      <th>CountryCode</th>\n",
       "      <th>CountryName</th>\n",
       "    </tr>\n",
       "  </thead>\n",
       "  <tbody>\n",
       "    <tr>\n",
       "      <th>149</th>\n",
       "      <td>NaN</td>\n",
       "      <td>Namibia</td>\n",
       "    </tr>\n",
       "  </tbody>\n",
       "</table>\n",
       "</div>"
      ],
      "text/plain": [
       "    CountryCode CountryName\n",
       "149         NaN     Namibia"
      ]
     },
     "execution_count": 15,
     "metadata": {},
     "output_type": "execute_result"
    }
   ],
   "source": [
    "CountryCode_nan_rows"
   ]
  },
  {
   "cell_type": "code",
   "execution_count": 16,
   "metadata": {
    "collapsed": true
   },
   "outputs": [],
   "source": [
    "CountryName_nan_rows = countryDF[countryDF['CountryName'].isnull()]"
   ]
  },
  {
   "cell_type": "code",
   "execution_count": 17,
   "metadata": {},
   "outputs": [
    {
     "data": {
      "text/html": [
       "<div>\n",
       "<style>\n",
       "    .dataframe thead tr:only-child th {\n",
       "        text-align: right;\n",
       "    }\n",
       "\n",
       "    .dataframe thead th {\n",
       "        text-align: left;\n",
       "    }\n",
       "\n",
       "    .dataframe tbody tr th {\n",
       "        vertical-align: top;\n",
       "    }\n",
       "</style>\n",
       "<table border=\"1\" class=\"dataframe\">\n",
       "  <thead>\n",
       "    <tr style=\"text-align: right;\">\n",
       "      <th></th>\n",
       "      <th>CountryCode</th>\n",
       "      <th>CountryName</th>\n",
       "    </tr>\n",
       "  </thead>\n",
       "  <tbody>\n",
       "  </tbody>\n",
       "</table>\n",
       "</div>"
      ],
      "text/plain": [
       "Empty DataFrame\n",
       "Columns: [CountryCode, CountryName]\n",
       "Index: []"
      ]
     },
     "execution_count": 17,
     "metadata": {},
     "output_type": "execute_result"
    }
   ],
   "source": [
    "CountryName_nan_rows"
   ]
  },
  {
   "cell_type": "markdown",
   "metadata": {},
   "source": [
    "#### Load Function Or Location Type Data Set and Perform Basic Data Sanity Check"
   ]
  },
  {
   "cell_type": "code",
   "execution_count": 18,
   "metadata": {},
   "outputs": [],
   "source": [
    "# Reading Country File \n",
    "functionDF = pd.read_csv('function_list.txt',sep=',')"
   ]
  },
  {
   "cell_type": "code",
   "execution_count": 19,
   "metadata": {},
   "outputs": [
    {
     "data": {
      "text/html": [
       "<div>\n",
       "<style>\n",
       "    .dataframe thead tr:only-child th {\n",
       "        text-align: right;\n",
       "    }\n",
       "\n",
       "    .dataframe thead th {\n",
       "        text-align: left;\n",
       "    }\n",
       "\n",
       "    .dataframe tbody tr th {\n",
       "        vertical-align: top;\n",
       "    }\n",
       "</style>\n",
       "<table border=\"1\" class=\"dataframe\">\n",
       "  <thead>\n",
       "    <tr style=\"text-align: right;\">\n",
       "      <th></th>\n",
       "      <th>FunctionCode</th>\n",
       "      <th>FunctionDescription</th>\n",
       "    </tr>\n",
       "  </thead>\n",
       "  <tbody>\n",
       "    <tr>\n",
       "      <th>0</th>\n",
       "      <td>0</td>\n",
       "      <td>Function not known, to be specified</td>\n",
       "    </tr>\n",
       "    <tr>\n",
       "      <th>1</th>\n",
       "      <td>1</td>\n",
       "      <td>Port, as defined in Rec 16</td>\n",
       "    </tr>\n",
       "    <tr>\n",
       "      <th>2</th>\n",
       "      <td>2</td>\n",
       "      <td>Rail Terminal</td>\n",
       "    </tr>\n",
       "    <tr>\n",
       "      <th>3</th>\n",
       "      <td>3</td>\n",
       "      <td>Road Terminal</td>\n",
       "    </tr>\n",
       "    <tr>\n",
       "      <th>4</th>\n",
       "      <td>4</td>\n",
       "      <td>Airport</td>\n",
       "    </tr>\n",
       "  </tbody>\n",
       "</table>\n",
       "</div>"
      ],
      "text/plain": [
       "  FunctionCode                  FunctionDescription\n",
       "0            0  Function not known, to be specified\n",
       "1            1           Port, as defined in Rec 16\n",
       "2            2                        Rail Terminal\n",
       "3            3                        Road Terminal\n",
       "4            4                              Airport"
      ]
     },
     "execution_count": 19,
     "metadata": {},
     "output_type": "execute_result"
    }
   ],
   "source": [
    "# top Five rows\n",
    "functionDF.head()"
   ]
  },
  {
   "cell_type": "code",
   "execution_count": 20,
   "metadata": {},
   "outputs": [
    {
     "data": {
      "text/plain": [
       "(10, 2)"
      ]
     },
     "execution_count": 20,
     "metadata": {},
     "output_type": "execute_result"
    }
   ],
   "source": [
    "functionDF.shape"
   ]
  },
  {
   "cell_type": "code",
   "execution_count": 21,
   "metadata": {},
   "outputs": [
    {
     "data": {
      "text/html": [
       "<div>\n",
       "<style>\n",
       "    .dataframe thead tr:only-child th {\n",
       "        text-align: right;\n",
       "    }\n",
       "\n",
       "    .dataframe thead th {\n",
       "        text-align: left;\n",
       "    }\n",
       "\n",
       "    .dataframe tbody tr th {\n",
       "        vertical-align: top;\n",
       "    }\n",
       "</style>\n",
       "<table border=\"1\" class=\"dataframe\">\n",
       "  <thead>\n",
       "    <tr style=\"text-align: right;\">\n",
       "      <th></th>\n",
       "      <th>FunctionCode</th>\n",
       "      <th>FunctionDescription</th>\n",
       "    </tr>\n",
       "  </thead>\n",
       "  <tbody>\n",
       "    <tr>\n",
       "      <th>0</th>\n",
       "      <td>0</td>\n",
       "      <td>Function not known, to be specified</td>\n",
       "    </tr>\n",
       "    <tr>\n",
       "      <th>1</th>\n",
       "      <td>1</td>\n",
       "      <td>Port, as defined in Rec 16</td>\n",
       "    </tr>\n",
       "    <tr>\n",
       "      <th>2</th>\n",
       "      <td>2</td>\n",
       "      <td>Rail Terminal</td>\n",
       "    </tr>\n",
       "    <tr>\n",
       "      <th>3</th>\n",
       "      <td>3</td>\n",
       "      <td>Road Terminal</td>\n",
       "    </tr>\n",
       "    <tr>\n",
       "      <th>4</th>\n",
       "      <td>4</td>\n",
       "      <td>Airport</td>\n",
       "    </tr>\n",
       "    <tr>\n",
       "      <th>5</th>\n",
       "      <td>5</td>\n",
       "      <td>Postal Exchange Office</td>\n",
       "    </tr>\n",
       "    <tr>\n",
       "      <th>6</th>\n",
       "      <td>6</td>\n",
       "      <td>Multimodal Functions (ICDs, etc.)</td>\n",
       "    </tr>\n",
       "    <tr>\n",
       "      <th>7</th>\n",
       "      <td>7</td>\n",
       "      <td>Fixed Transport Functions (e.g. Oil platform)</td>\n",
       "    </tr>\n",
       "    <tr>\n",
       "      <th>8</th>\n",
       "      <td>8</td>\n",
       "      <td>Inland Port</td>\n",
       "    </tr>\n",
       "    <tr>\n",
       "      <th>9</th>\n",
       "      <td>B</td>\n",
       "      <td>Border Crossing</td>\n",
       "    </tr>\n",
       "  </tbody>\n",
       "</table>\n",
       "</div>"
      ],
      "text/plain": [
       "  FunctionCode                            FunctionDescription\n",
       "0            0            Function not known, to be specified\n",
       "1            1                     Port, as defined in Rec 16\n",
       "2            2                                  Rail Terminal\n",
       "3            3                                  Road Terminal\n",
       "4            4                                        Airport\n",
       "5            5                         Postal Exchange Office\n",
       "6            6              Multimodal Functions (ICDs, etc.)\n",
       "7            7  Fixed Transport Functions (e.g. Oil platform)\n",
       "8            8                                    Inland Port\n",
       "9            B                                Border Crossing"
      ]
     },
     "execution_count": 21,
     "metadata": {},
     "output_type": "execute_result"
    }
   ],
   "source": [
    "functionDF.head(10)"
   ]
  },
  {
   "cell_type": "markdown",
   "metadata": {
    "collapsed": true
   },
   "source": [
    "###### Function Code 'B' Seems Ambiguous -- Lets See in the main Dataframe what all values of function Code is present"
   ]
  },
  {
   "cell_type": "code",
   "execution_count": 22,
   "metadata": {
    "collapsed": true
   },
   "outputs": [],
   "source": [
    "# Reading Code-list File \n",
    "mainDF = pd.read_csv('code-list.csv',sep=',')"
   ]
  },
  {
   "cell_type": "code",
   "execution_count": 23,
   "metadata": {},
   "outputs": [
    {
     "data": {
      "text/html": [
       "<div>\n",
       "<style>\n",
       "    .dataframe thead tr:only-child th {\n",
       "        text-align: right;\n",
       "    }\n",
       "\n",
       "    .dataframe thead th {\n",
       "        text-align: left;\n",
       "    }\n",
       "\n",
       "    .dataframe tbody tr th {\n",
       "        vertical-align: top;\n",
       "    }\n",
       "</style>\n",
       "<table border=\"1\" class=\"dataframe\">\n",
       "  <thead>\n",
       "    <tr style=\"text-align: right;\">\n",
       "      <th></th>\n",
       "      <th>Change</th>\n",
       "      <th>Country</th>\n",
       "      <th>Location</th>\n",
       "      <th>Name</th>\n",
       "      <th>NameWoDiacritics</th>\n",
       "      <th>Subdivision</th>\n",
       "      <th>Status</th>\n",
       "      <th>Function</th>\n",
       "      <th>Date</th>\n",
       "      <th>IATA</th>\n",
       "      <th>Coordinates</th>\n",
       "      <th>Remarks</th>\n",
       "    </tr>\n",
       "  </thead>\n",
       "  <tbody>\n",
       "    <tr>\n",
       "      <th>0</th>\n",
       "      <td>NaN</td>\n",
       "      <td>AU</td>\n",
       "      <td>ALO</td>\n",
       "      <td>Adelong</td>\n",
       "      <td>Adelong</td>\n",
       "      <td>NSW</td>\n",
       "      <td>RL</td>\n",
       "      <td>--3-----</td>\n",
       "      <td>607.0</td>\n",
       "      <td>NaN</td>\n",
       "      <td>3519S 14804E</td>\n",
       "      <td>NaN</td>\n",
       "    </tr>\n",
       "    <tr>\n",
       "      <th>1</th>\n",
       "      <td>NaN</td>\n",
       "      <td>AU</td>\n",
       "      <td>ANB</td>\n",
       "      <td>Agnes Bank</td>\n",
       "      <td>Agnes Bank</td>\n",
       "      <td>NSW</td>\n",
       "      <td>RL</td>\n",
       "      <td>--3-----</td>\n",
       "      <td>1501.0</td>\n",
       "      <td>NaN</td>\n",
       "      <td>3336S 15042E</td>\n",
       "      <td>NaN</td>\n",
       "    </tr>\n",
       "    <tr>\n",
       "      <th>2</th>\n",
       "      <td>NaN</td>\n",
       "      <td>AU</td>\n",
       "      <td>AGW</td>\n",
       "      <td>Agnew</td>\n",
       "      <td>Agnew</td>\n",
       "      <td>QLD</td>\n",
       "      <td>AI</td>\n",
       "      <td>---4----</td>\n",
       "      <td>9601.0</td>\n",
       "      <td>NaN</td>\n",
       "      <td>NaN</td>\n",
       "      <td>NaN</td>\n",
       "    </tr>\n",
       "    <tr>\n",
       "      <th>3</th>\n",
       "      <td>NaN</td>\n",
       "      <td>AU</td>\n",
       "      <td>WSY</td>\n",
       "      <td>Airlie Beach</td>\n",
       "      <td>Airlie Beach</td>\n",
       "      <td>QLD</td>\n",
       "      <td>AI</td>\n",
       "      <td>---4----</td>\n",
       "      <td>9912.0</td>\n",
       "      <td>NaN</td>\n",
       "      <td>NaN</td>\n",
       "      <td>NaN</td>\n",
       "    </tr>\n",
       "    <tr>\n",
       "      <th>4</th>\n",
       "      <td>NaN</td>\n",
       "      <td>AU</td>\n",
       "      <td>AIR</td>\n",
       "      <td>Airlie Terminal</td>\n",
       "      <td>Airlie Terminal</td>\n",
       "      <td>WA</td>\n",
       "      <td>RL</td>\n",
       "      <td>1-------</td>\n",
       "      <td>212.0</td>\n",
       "      <td>NaN</td>\n",
       "      <td>2120S 11510E</td>\n",
       "      <td>Airlie Island</td>\n",
       "    </tr>\n",
       "  </tbody>\n",
       "</table>\n",
       "</div>"
      ],
      "text/plain": [
       "  Change Country Location             Name NameWoDiacritics Subdivision  \\\n",
       "0    NaN      AU      ALO          Adelong          Adelong         NSW   \n",
       "1    NaN      AU      ANB       Agnes Bank       Agnes Bank         NSW   \n",
       "2    NaN      AU      AGW            Agnew            Agnew         QLD   \n",
       "3    NaN      AU      WSY     Airlie Beach     Airlie Beach         QLD   \n",
       "4    NaN      AU      AIR  Airlie Terminal  Airlie Terminal          WA   \n",
       "\n",
       "  Status  Function    Date IATA   Coordinates        Remarks  \n",
       "0     RL  --3-----   607.0  NaN  3519S 14804E            NaN  \n",
       "1     RL  --3-----  1501.0  NaN  3336S 15042E            NaN  \n",
       "2     AI  ---4----  9601.0  NaN           NaN            NaN  \n",
       "3     AI  ---4----  9912.0  NaN           NaN            NaN  \n",
       "4     RL  1-------   212.0  NaN  2120S 11510E  Airlie Island  "
      ]
     },
     "execution_count": 23,
     "metadata": {},
     "output_type": "execute_result"
    }
   ],
   "source": [
    "mainDF.head()"
   ]
  },
  {
   "cell_type": "code",
   "execution_count": 24,
   "metadata": {},
   "outputs": [
    {
     "name": "stdout",
     "output_type": "stream",
     "text": [
      "<class 'pandas.core.frame.DataFrame'>\n",
      "RangeIndex: 109801 entries, 0 to 109800\n",
      "Data columns (total 12 columns):\n",
      "Change              2114 non-null object\n",
      "Country             109756 non-null object\n",
      "Location            109801 non-null object\n",
      "Name                109801 non-null object\n",
      "NameWoDiacritics    109801 non-null object\n",
      "Subdivision         95028 non-null object\n",
      "Status              109797 non-null object\n",
      "Function            109801 non-null object\n",
      "Date                109772 non-null float64\n",
      "IATA                798 non-null object\n",
      "Coordinates         83542 non-null object\n",
      "Remarks             988 non-null object\n",
      "dtypes: float64(1), object(11)\n",
      "memory usage: 10.1+ MB\n"
     ]
    }
   ],
   "source": [
    "mainDF.info()"
   ]
  },
  {
   "cell_type": "markdown",
   "metadata": {},
   "source": [
    "##### Note: mainDF needs to be cleansed before merging it with function_list and Country dataframe.     \n",
    "Apart from The change column, which seems to have most NaN Values, If you closely look, the funtion coulmn is supposed have function code without additional dashes '-'     Approaching to clean this by implementing a regex to remove special characters. and thenreanalying distribution of function coulmn."
   ]
  },
  {
   "cell_type": "code",
   "execution_count": 25,
   "metadata": {
    "collapsed": true
   },
   "outputs": [],
   "source": [
    "# Let's analyze distribution of Chnage Column"
   ]
  },
  {
   "cell_type": "code",
   "execution_count": 26,
   "metadata": {},
   "outputs": [
    {
     "data": {
      "text/html": [
       "<div>\n",
       "<style>\n",
       "    .dataframe thead tr:only-child th {\n",
       "        text-align: right;\n",
       "    }\n",
       "\n",
       "    .dataframe thead th {\n",
       "        text-align: left;\n",
       "    }\n",
       "\n",
       "    .dataframe tbody tr th {\n",
       "        vertical-align: top;\n",
       "    }\n",
       "</style>\n",
       "<table border=\"1\" class=\"dataframe\">\n",
       "  <thead>\n",
       "    <tr style=\"text-align: right;\">\n",
       "      <th></th>\n",
       "      <th>Change</th>\n",
       "      <th>counts</th>\n",
       "    </tr>\n",
       "  </thead>\n",
       "  <tbody>\n",
       "    <tr>\n",
       "      <th>0</th>\n",
       "      <td>!</td>\n",
       "      <td>94</td>\n",
       "    </tr>\n",
       "    <tr>\n",
       "      <th>1</th>\n",
       "      <td>#</td>\n",
       "      <td>98</td>\n",
       "    </tr>\n",
       "    <tr>\n",
       "      <th>2</th>\n",
       "      <td>+</td>\n",
       "      <td>1394</td>\n",
       "    </tr>\n",
       "    <tr>\n",
       "      <th>3</th>\n",
       "      <td>X</td>\n",
       "      <td>90</td>\n",
       "    </tr>\n",
       "    <tr>\n",
       "      <th>4</th>\n",
       "      <td>¦</td>\n",
       "      <td>438</td>\n",
       "    </tr>\n",
       "  </tbody>\n",
       "</table>\n",
       "</div>"
      ],
      "text/plain": [
       "  Change  counts\n",
       "0      !      94\n",
       "1      #      98\n",
       "2      +    1394\n",
       "3      X      90\n",
       "4      ¦     438"
      ]
     },
     "execution_count": 26,
     "metadata": {},
     "output_type": "execute_result"
    }
   ],
   "source": [
    "# Using reset index to convert it from Series to DF\n",
    "mainDF.groupby('Change').size().reset_index(name='counts') "
   ]
  },
  {
   "cell_type": "markdown",
   "metadata": {},
   "source": [
    "Change Column Doesn't make sense to the dataset, so we can drop this column"
   ]
  },
  {
   "cell_type": "code",
   "execution_count": 27,
   "metadata": {},
   "outputs": [],
   "source": [
    "mainDF = mainDF.drop(['Change'], axis=1)"
   ]
  },
  {
   "cell_type": "markdown",
   "metadata": {},
   "source": [
    "###### Looking at the Basinc info in athe above cell for mainDF, we see around 45 Rows having NaN values in Country Column. We can drop such rows."
   ]
  },
  {
   "cell_type": "code",
   "execution_count": 28,
   "metadata": {},
   "outputs": [],
   "source": [
    "mainDF = mainDF.dropna(subset=['Country'])"
   ]
  },
  {
   "cell_type": "code",
   "execution_count": 29,
   "metadata": {},
   "outputs": [
    {
     "name": "stdout",
     "output_type": "stream",
     "text": [
      "<class 'pandas.core.frame.DataFrame'>\n",
      "Int64Index: 109756 entries, 0 to 109800\n",
      "Data columns (total 11 columns):\n",
      "Country             109756 non-null object\n",
      "Location            109756 non-null object\n",
      "Name                109756 non-null object\n",
      "NameWoDiacritics    109756 non-null object\n",
      "Subdivision         95015 non-null object\n",
      "Status              109752 non-null object\n",
      "Function            109756 non-null object\n",
      "Date                109727 non-null float64\n",
      "IATA                798 non-null object\n",
      "Coordinates         83526 non-null object\n",
      "Remarks             988 non-null object\n",
      "dtypes: float64(1), object(10)\n",
      "memory usage: 10.0+ MB\n"
     ]
    }
   ],
   "source": [
    "mainDF.info()"
   ]
  },
  {
   "cell_type": "markdown",
   "metadata": {},
   "source": [
    "###### Let's target function column and it's distribution after removing special characters form the column."
   ]
  },
  {
   "cell_type": "code",
   "execution_count": 30,
   "metadata": {},
   "outputs": [],
   "source": [
    "mainDF['Function'] = mainDF['Function'].replace(to_replace=r'[^A-Za-z0-9]+', value='', regex=True)"
   ]
  },
  {
   "cell_type": "code",
   "execution_count": 31,
   "metadata": {},
   "outputs": [
    {
     "data": {
      "text/html": [
       "<div>\n",
       "<style>\n",
       "    .dataframe thead tr:only-child th {\n",
       "        text-align: right;\n",
       "    }\n",
       "\n",
       "    .dataframe thead th {\n",
       "        text-align: left;\n",
       "    }\n",
       "\n",
       "    .dataframe tbody tr th {\n",
       "        vertical-align: top;\n",
       "    }\n",
       "</style>\n",
       "<table border=\"1\" class=\"dataframe\">\n",
       "  <thead>\n",
       "    <tr style=\"text-align: right;\">\n",
       "      <th></th>\n",
       "      <th>Country</th>\n",
       "      <th>Location</th>\n",
       "      <th>Name</th>\n",
       "      <th>NameWoDiacritics</th>\n",
       "      <th>Subdivision</th>\n",
       "      <th>Status</th>\n",
       "      <th>Function</th>\n",
       "      <th>Date</th>\n",
       "      <th>IATA</th>\n",
       "      <th>Coordinates</th>\n",
       "      <th>Remarks</th>\n",
       "    </tr>\n",
       "  </thead>\n",
       "  <tbody>\n",
       "    <tr>\n",
       "      <th>0</th>\n",
       "      <td>AU</td>\n",
       "      <td>ALO</td>\n",
       "      <td>Adelong</td>\n",
       "      <td>Adelong</td>\n",
       "      <td>NSW</td>\n",
       "      <td>RL</td>\n",
       "      <td>3</td>\n",
       "      <td>607.0</td>\n",
       "      <td>NaN</td>\n",
       "      <td>3519S 14804E</td>\n",
       "      <td>NaN</td>\n",
       "    </tr>\n",
       "    <tr>\n",
       "      <th>1</th>\n",
       "      <td>AU</td>\n",
       "      <td>ANB</td>\n",
       "      <td>Agnes Bank</td>\n",
       "      <td>Agnes Bank</td>\n",
       "      <td>NSW</td>\n",
       "      <td>RL</td>\n",
       "      <td>3</td>\n",
       "      <td>1501.0</td>\n",
       "      <td>NaN</td>\n",
       "      <td>3336S 15042E</td>\n",
       "      <td>NaN</td>\n",
       "    </tr>\n",
       "    <tr>\n",
       "      <th>2</th>\n",
       "      <td>AU</td>\n",
       "      <td>AGW</td>\n",
       "      <td>Agnew</td>\n",
       "      <td>Agnew</td>\n",
       "      <td>QLD</td>\n",
       "      <td>AI</td>\n",
       "      <td>4</td>\n",
       "      <td>9601.0</td>\n",
       "      <td>NaN</td>\n",
       "      <td>NaN</td>\n",
       "      <td>NaN</td>\n",
       "    </tr>\n",
       "    <tr>\n",
       "      <th>3</th>\n",
       "      <td>AU</td>\n",
       "      <td>WSY</td>\n",
       "      <td>Airlie Beach</td>\n",
       "      <td>Airlie Beach</td>\n",
       "      <td>QLD</td>\n",
       "      <td>AI</td>\n",
       "      <td>4</td>\n",
       "      <td>9912.0</td>\n",
       "      <td>NaN</td>\n",
       "      <td>NaN</td>\n",
       "      <td>NaN</td>\n",
       "    </tr>\n",
       "    <tr>\n",
       "      <th>4</th>\n",
       "      <td>AU</td>\n",
       "      <td>AIR</td>\n",
       "      <td>Airlie Terminal</td>\n",
       "      <td>Airlie Terminal</td>\n",
       "      <td>WA</td>\n",
       "      <td>RL</td>\n",
       "      <td>1</td>\n",
       "      <td>212.0</td>\n",
       "      <td>NaN</td>\n",
       "      <td>2120S 11510E</td>\n",
       "      <td>Airlie Island</td>\n",
       "    </tr>\n",
       "  </tbody>\n",
       "</table>\n",
       "</div>"
      ],
      "text/plain": [
       "  Country Location             Name NameWoDiacritics Subdivision Status  \\\n",
       "0      AU      ALO          Adelong          Adelong         NSW     RL   \n",
       "1      AU      ANB       Agnes Bank       Agnes Bank         NSW     RL   \n",
       "2      AU      AGW            Agnew            Agnew         QLD     AI   \n",
       "3      AU      WSY     Airlie Beach     Airlie Beach         QLD     AI   \n",
       "4      AU      AIR  Airlie Terminal  Airlie Terminal          WA     RL   \n",
       "\n",
       "  Function    Date IATA   Coordinates        Remarks  \n",
       "0        3   607.0  NaN  3519S 14804E            NaN  \n",
       "1        3  1501.0  NaN  3336S 15042E            NaN  \n",
       "2        4  9601.0  NaN           NaN            NaN  \n",
       "3        4  9912.0  NaN           NaN            NaN  \n",
       "4        1   212.0  NaN  2120S 11510E  Airlie Island  "
      ]
     },
     "execution_count": 31,
     "metadata": {},
     "output_type": "execute_result"
    }
   ],
   "source": [
    "mainDF.head()"
   ]
  },
  {
   "cell_type": "code",
   "execution_count": 32,
   "metadata": {},
   "outputs": [
    {
     "data": {
      "text/html": [
       "<div>\n",
       "<style>\n",
       "    .dataframe thead tr:only-child th {\n",
       "        text-align: right;\n",
       "    }\n",
       "\n",
       "    .dataframe thead th {\n",
       "        text-align: left;\n",
       "    }\n",
       "\n",
       "    .dataframe tbody tr th {\n",
       "        vertical-align: top;\n",
       "    }\n",
       "</style>\n",
       "<table border=\"1\" class=\"dataframe\">\n",
       "  <thead>\n",
       "    <tr style=\"text-align: right;\">\n",
       "      <th></th>\n",
       "      <th>Country</th>\n",
       "      <th>Location</th>\n",
       "      <th>Name</th>\n",
       "      <th>NameWoDiacritics</th>\n",
       "      <th>Subdivision</th>\n",
       "      <th>Status</th>\n",
       "      <th>Function</th>\n",
       "      <th>Date</th>\n",
       "      <th>IATA</th>\n",
       "      <th>Coordinates</th>\n",
       "      <th>Remarks</th>\n",
       "    </tr>\n",
       "  </thead>\n",
       "  <tbody>\n",
       "    <tr>\n",
       "      <th>70200</th>\n",
       "      <td>KR</td>\n",
       "      <td>PUS</td>\n",
       "      <td>Busan</td>\n",
       "      <td>Busan</td>\n",
       "      <td>26</td>\n",
       "      <td>AF</td>\n",
       "      <td>1234567</td>\n",
       "      <td>1001.0</td>\n",
       "      <td>NaN</td>\n",
       "      <td>3508N 12903E</td>\n",
       "      <td>NaN</td>\n",
       "    </tr>\n",
       "  </tbody>\n",
       "</table>\n",
       "</div>"
      ],
      "text/plain": [
       "      Country Location   Name NameWoDiacritics Subdivision Status Function  \\\n",
       "70200      KR      PUS  Busan            Busan          26     AF  1234567   \n",
       "\n",
       "         Date IATA   Coordinates Remarks  \n",
       "70200  1001.0  NaN  3508N 12903E     NaN  "
      ]
     },
     "execution_count": 32,
     "metadata": {},
     "output_type": "execute_result"
    }
   ],
   "source": [
    "mainDF[mainDF['Function']== '1234567']"
   ]
  },
  {
   "cell_type": "code",
   "execution_count": 33,
   "metadata": {},
   "outputs": [],
   "source": [
    "#mainDF[mainDF['Function'].apply(lambda x: len(x)>1)]\n",
    "#function_TestDF = mainDF['Function'].apply(lambda x: len(x)>1)"
   ]
  },
  {
   "cell_type": "code",
   "execution_count": 34,
   "metadata": {},
   "outputs": [],
   "source": [
    "# testing Function Column which has Function code length > 1\n",
    "Function_TestDF = mainDF.loc[mainDF.Function.apply(lambda x: len(x)>1)]"
   ]
  },
  {
   "cell_type": "code",
   "execution_count": 35,
   "metadata": {},
   "outputs": [
    {
     "data": {
      "text/html": [
       "<div>\n",
       "<style>\n",
       "    .dataframe thead tr:only-child th {\n",
       "        text-align: right;\n",
       "    }\n",
       "\n",
       "    .dataframe thead th {\n",
       "        text-align: left;\n",
       "    }\n",
       "\n",
       "    .dataframe tbody tr th {\n",
       "        vertical-align: top;\n",
       "    }\n",
       "</style>\n",
       "<table border=\"1\" class=\"dataframe\">\n",
       "  <thead>\n",
       "    <tr style=\"text-align: right;\">\n",
       "      <th></th>\n",
       "      <th>Function</th>\n",
       "      <th>counts</th>\n",
       "    </tr>\n",
       "  </thead>\n",
       "  <tbody>\n",
       "    <tr>\n",
       "      <th>0</th>\n",
       "      <td>12</td>\n",
       "      <td>87</td>\n",
       "    </tr>\n",
       "    <tr>\n",
       "      <th>1</th>\n",
       "      <td>123</td>\n",
       "      <td>1777</td>\n",
       "    </tr>\n",
       "    <tr>\n",
       "      <th>2</th>\n",
       "      <td>1234</td>\n",
       "      <td>166</td>\n",
       "    </tr>\n",
       "    <tr>\n",
       "      <th>3</th>\n",
       "      <td>12345</td>\n",
       "      <td>78</td>\n",
       "    </tr>\n",
       "    <tr>\n",
       "      <th>4</th>\n",
       "      <td>123456</td>\n",
       "      <td>5</td>\n",
       "    </tr>\n",
       "    <tr>\n",
       "      <th>5</th>\n",
       "      <td>1234567</td>\n",
       "      <td>1</td>\n",
       "    </tr>\n",
       "    <tr>\n",
       "      <th>6</th>\n",
       "      <td>123457</td>\n",
       "      <td>1</td>\n",
       "    </tr>\n",
       "    <tr>\n",
       "      <th>7</th>\n",
       "      <td>12345B</td>\n",
       "      <td>1</td>\n",
       "    </tr>\n",
       "    <tr>\n",
       "      <th>8</th>\n",
       "      <td>12346</td>\n",
       "      <td>16</td>\n",
       "    </tr>\n",
       "    <tr>\n",
       "      <th>9</th>\n",
       "      <td>1234B</td>\n",
       "      <td>3</td>\n",
       "    </tr>\n",
       "  </tbody>\n",
       "</table>\n",
       "</div>"
      ],
      "text/plain": [
       "  Function  counts\n",
       "0       12      87\n",
       "1      123    1777\n",
       "2     1234     166\n",
       "3    12345      78\n",
       "4   123456       5\n",
       "5  1234567       1\n",
       "6   123457       1\n",
       "7   12345B       1\n",
       "8    12346      16\n",
       "9    1234B       3"
      ]
     },
     "execution_count": 35,
     "metadata": {},
     "output_type": "execute_result"
    }
   ],
   "source": [
    "# Checking destribution of Function Column in Function Test DF\n",
    "Function_TestDF.groupby('Function').size().reset_index(name='counts').head(10)"
   ]
  },
  {
   "cell_type": "code",
   "execution_count": 36,
   "metadata": {},
   "outputs": [
    {
     "data": {
      "text/plain": [
       "Function    12123123412345123456123456712345712345B1234612...\n",
       "counts                                                  24790\n",
       "dtype: object"
      ]
     },
     "execution_count": 36,
     "metadata": {},
     "output_type": "execute_result"
    }
   ],
   "source": [
    "Function_TestDF.groupby('Function').size().reset_index(name='counts').sum()"
   ]
  },
  {
   "cell_type": "markdown",
   "metadata": {},
   "source": [
    "##### Note: There are 91 Such Combinations in around 25K rows\n",
    "Now, Let's test what  is the distribution of Function Code where str length = 1\n"
   ]
  },
  {
   "cell_type": "code",
   "execution_count": 37,
   "metadata": {},
   "outputs": [],
   "source": [
    "#function_TestDF = mainDF['Function'].apply(lambda x: len(x) = 1)\n",
    "#functionLength1_TestDF = mainDF['Function'].apply(lambda x: True if len(x) == 1 else False)\n",
    "functionLength1_TestDF = mainDF.loc[mainDF['Function'].apply(lambda x: len(x) == 1)]"
   ]
  },
  {
   "cell_type": "code",
   "execution_count": 38,
   "metadata": {},
   "outputs": [
    {
     "data": {
      "text/html": [
       "<div>\n",
       "<style>\n",
       "    .dataframe thead tr:only-child th {\n",
       "        text-align: right;\n",
       "    }\n",
       "\n",
       "    .dataframe thead th {\n",
       "        text-align: left;\n",
       "    }\n",
       "\n",
       "    .dataframe tbody tr th {\n",
       "        vertical-align: top;\n",
       "    }\n",
       "</style>\n",
       "<table border=\"1\" class=\"dataframe\">\n",
       "  <thead>\n",
       "    <tr style=\"text-align: right;\">\n",
       "      <th></th>\n",
       "      <th>Function</th>\n",
       "      <th>counts</th>\n",
       "    </tr>\n",
       "  </thead>\n",
       "  <tbody>\n",
       "    <tr>\n",
       "      <th>0</th>\n",
       "      <td>0</td>\n",
       "      <td>882</td>\n",
       "    </tr>\n",
       "    <tr>\n",
       "      <th>1</th>\n",
       "      <td>1</td>\n",
       "      <td>7953</td>\n",
       "    </tr>\n",
       "    <tr>\n",
       "      <th>2</th>\n",
       "      <td>2</td>\n",
       "      <td>481</td>\n",
       "    </tr>\n",
       "    <tr>\n",
       "      <th>3</th>\n",
       "      <td>3</td>\n",
       "      <td>62235</td>\n",
       "    </tr>\n",
       "    <tr>\n",
       "      <th>4</th>\n",
       "      <td>4</td>\n",
       "      <td>5580</td>\n",
       "    </tr>\n",
       "    <tr>\n",
       "      <th>5</th>\n",
       "      <td>5</td>\n",
       "      <td>106</td>\n",
       "    </tr>\n",
       "    <tr>\n",
       "      <th>6</th>\n",
       "      <td>6</td>\n",
       "      <td>7457</td>\n",
       "    </tr>\n",
       "    <tr>\n",
       "      <th>7</th>\n",
       "      <td>7</td>\n",
       "      <td>198</td>\n",
       "    </tr>\n",
       "    <tr>\n",
       "      <th>8</th>\n",
       "      <td>B</td>\n",
       "      <td>74</td>\n",
       "    </tr>\n",
       "  </tbody>\n",
       "</table>\n",
       "</div>"
      ],
      "text/plain": [
       "  Function  counts\n",
       "0        0     882\n",
       "1        1    7953\n",
       "2        2     481\n",
       "3        3   62235\n",
       "4        4    5580\n",
       "5        5     106\n",
       "6        6    7457\n",
       "7        7     198\n",
       "8        B      74"
      ]
     },
     "execution_count": 38,
     "metadata": {},
     "output_type": "execute_result"
    }
   ],
   "source": [
    "# Checking destribution of Function Column in Function Test DF\n",
    "functionLength1_TestDF.groupby('Function').size().reset_index(name='counts')"
   ]
  },
  {
   "cell_type": "code",
   "execution_count": 39,
   "metadata": {},
   "outputs": [
    {
     "data": {
      "text/plain": [
       "Function    01234567B\n",
       "counts          84966\n",
       "dtype: object"
      ]
     },
     "execution_count": 39,
     "metadata": {},
     "output_type": "execute_result"
    }
   ],
   "source": [
    "functionLength1_TestDF.groupby('Function').size().reset_index(name='counts').sum()"
   ]
  },
  {
   "cell_type": "markdown",
   "metadata": {},
   "source": [
    "###### Looking at the above result set, it seems that around 85003 rows have appropriate function code out of 109801, which is close to  78%"
   ]
  },
  {
   "cell_type": "markdown",
   "metadata": {},
   "source": [
    "##### Creating Cleaned Main DF after Regex implementation for removing Special Characters and filtering out rows where Function Code Length >1"
   ]
  },
  {
   "cell_type": "code",
   "execution_count": 40,
   "metadata": {
    "collapsed": true
   },
   "outputs": [],
   "source": [
    "cleaned_DF = mainDF.loc[mainDF['Function'].apply(lambda x: len(x) == 1)]"
   ]
  },
  {
   "cell_type": "code",
   "execution_count": 41,
   "metadata": {},
   "outputs": [
    {
     "data": {
      "text/html": [
       "<div>\n",
       "<style>\n",
       "    .dataframe thead tr:only-child th {\n",
       "        text-align: right;\n",
       "    }\n",
       "\n",
       "    .dataframe thead th {\n",
       "        text-align: left;\n",
       "    }\n",
       "\n",
       "    .dataframe tbody tr th {\n",
       "        vertical-align: top;\n",
       "    }\n",
       "</style>\n",
       "<table border=\"1\" class=\"dataframe\">\n",
       "  <thead>\n",
       "    <tr style=\"text-align: right;\">\n",
       "      <th></th>\n",
       "      <th>Country</th>\n",
       "      <th>Location</th>\n",
       "      <th>Name</th>\n",
       "      <th>NameWoDiacritics</th>\n",
       "      <th>Subdivision</th>\n",
       "      <th>Status</th>\n",
       "      <th>Function</th>\n",
       "      <th>Date</th>\n",
       "      <th>IATA</th>\n",
       "      <th>Coordinates</th>\n",
       "      <th>Remarks</th>\n",
       "    </tr>\n",
       "  </thead>\n",
       "  <tbody>\n",
       "    <tr>\n",
       "      <th>0</th>\n",
       "      <td>AU</td>\n",
       "      <td>ALO</td>\n",
       "      <td>Adelong</td>\n",
       "      <td>Adelong</td>\n",
       "      <td>NSW</td>\n",
       "      <td>RL</td>\n",
       "      <td>3</td>\n",
       "      <td>607.0</td>\n",
       "      <td>NaN</td>\n",
       "      <td>3519S 14804E</td>\n",
       "      <td>NaN</td>\n",
       "    </tr>\n",
       "    <tr>\n",
       "      <th>1</th>\n",
       "      <td>AU</td>\n",
       "      <td>ANB</td>\n",
       "      <td>Agnes Bank</td>\n",
       "      <td>Agnes Bank</td>\n",
       "      <td>NSW</td>\n",
       "      <td>RL</td>\n",
       "      <td>3</td>\n",
       "      <td>1501.0</td>\n",
       "      <td>NaN</td>\n",
       "      <td>3336S 15042E</td>\n",
       "      <td>NaN</td>\n",
       "    </tr>\n",
       "    <tr>\n",
       "      <th>2</th>\n",
       "      <td>AU</td>\n",
       "      <td>AGW</td>\n",
       "      <td>Agnew</td>\n",
       "      <td>Agnew</td>\n",
       "      <td>QLD</td>\n",
       "      <td>AI</td>\n",
       "      <td>4</td>\n",
       "      <td>9601.0</td>\n",
       "      <td>NaN</td>\n",
       "      <td>NaN</td>\n",
       "      <td>NaN</td>\n",
       "    </tr>\n",
       "    <tr>\n",
       "      <th>3</th>\n",
       "      <td>AU</td>\n",
       "      <td>WSY</td>\n",
       "      <td>Airlie Beach</td>\n",
       "      <td>Airlie Beach</td>\n",
       "      <td>QLD</td>\n",
       "      <td>AI</td>\n",
       "      <td>4</td>\n",
       "      <td>9912.0</td>\n",
       "      <td>NaN</td>\n",
       "      <td>NaN</td>\n",
       "      <td>NaN</td>\n",
       "    </tr>\n",
       "    <tr>\n",
       "      <th>4</th>\n",
       "      <td>AU</td>\n",
       "      <td>AIR</td>\n",
       "      <td>Airlie Terminal</td>\n",
       "      <td>Airlie Terminal</td>\n",
       "      <td>WA</td>\n",
       "      <td>RL</td>\n",
       "      <td>1</td>\n",
       "      <td>212.0</td>\n",
       "      <td>NaN</td>\n",
       "      <td>2120S 11510E</td>\n",
       "      <td>Airlie Island</td>\n",
       "    </tr>\n",
       "  </tbody>\n",
       "</table>\n",
       "</div>"
      ],
      "text/plain": [
       "  Country Location             Name NameWoDiacritics Subdivision Status  \\\n",
       "0      AU      ALO          Adelong          Adelong         NSW     RL   \n",
       "1      AU      ANB       Agnes Bank       Agnes Bank         NSW     RL   \n",
       "2      AU      AGW            Agnew            Agnew         QLD     AI   \n",
       "3      AU      WSY     Airlie Beach     Airlie Beach         QLD     AI   \n",
       "4      AU      AIR  Airlie Terminal  Airlie Terminal          WA     RL   \n",
       "\n",
       "  Function    Date IATA   Coordinates        Remarks  \n",
       "0        3   607.0  NaN  3519S 14804E            NaN  \n",
       "1        3  1501.0  NaN  3336S 15042E            NaN  \n",
       "2        4  9601.0  NaN           NaN            NaN  \n",
       "3        4  9912.0  NaN           NaN            NaN  \n",
       "4        1   212.0  NaN  2120S 11510E  Airlie Island  "
      ]
     },
     "execution_count": 41,
     "metadata": {},
     "output_type": "execute_result"
    }
   ],
   "source": [
    "cleaned_DF.head()"
   ]
  },
  {
   "cell_type": "code",
   "execution_count": 42,
   "metadata": {},
   "outputs": [
    {
     "data": {
      "text/plain": [
       "(84966, 11)"
      ]
     },
     "execution_count": 42,
     "metadata": {},
     "output_type": "execute_result"
    }
   ],
   "source": [
    "cleaned_DF.shape"
   ]
  },
  {
   "cell_type": "markdown",
   "metadata": {},
   "source": [
    "###### Merge all three  Cleaned DF, Function and Country Dataframe"
   ]
  },
  {
   "cell_type": "code",
   "execution_count": 43,
   "metadata": {
    "collapsed": true
   },
   "outputs": [],
   "source": [
    "import warnings\n",
    "warnings.filterwarnings(\"ignore\")"
   ]
  },
  {
   "cell_type": "code",
   "execution_count": 44,
   "metadata": {},
   "outputs": [],
   "source": [
    "#Removing white spaces from Joining Columns \n",
    "#import warnings\n",
    "#warnings.filterwarnings(\"ignore\")\n",
    "cleaned_DF['Country'] = cleaned_DF['Country'].str.strip()\n",
    "cleaned_DF['Function'] = cleaned_DF['Function'].str.strip()\n",
    "countryDF['CountryCode'] = countryDF['CountryCode'].str.strip()\n",
    "functionDF['FunctionCode'] = functionDF['FunctionCode'].str.strip()"
   ]
  },
  {
   "cell_type": "code",
   "execution_count": 45,
   "metadata": {
    "collapsed": true
   },
   "outputs": [],
   "source": [
    "#coding for merged dataframe \n",
    "merged_df_1 = pd.merge(cleaned_DF,countryDF, left_on='Country',right_on ='CountryCode',how ='left')"
   ]
  },
  {
   "cell_type": "code",
   "execution_count": 46,
   "metadata": {},
   "outputs": [
    {
     "data": {
      "text/plain": [
       "(84966, 13)"
      ]
     },
     "execution_count": 46,
     "metadata": {},
     "output_type": "execute_result"
    }
   ],
   "source": [
    "merged_df_1.shape"
   ]
  },
  {
   "cell_type": "code",
   "execution_count": 47,
   "metadata": {},
   "outputs": [
    {
     "data": {
      "text/html": [
       "<div>\n",
       "<style>\n",
       "    .dataframe thead tr:only-child th {\n",
       "        text-align: right;\n",
       "    }\n",
       "\n",
       "    .dataframe thead th {\n",
       "        text-align: left;\n",
       "    }\n",
       "\n",
       "    .dataframe tbody tr th {\n",
       "        vertical-align: top;\n",
       "    }\n",
       "</style>\n",
       "<table border=\"1\" class=\"dataframe\">\n",
       "  <thead>\n",
       "    <tr style=\"text-align: right;\">\n",
       "      <th></th>\n",
       "      <th>Country</th>\n",
       "      <th>Location</th>\n",
       "      <th>Name</th>\n",
       "      <th>NameWoDiacritics</th>\n",
       "      <th>Subdivision</th>\n",
       "      <th>Status</th>\n",
       "      <th>Function</th>\n",
       "      <th>Date</th>\n",
       "      <th>IATA</th>\n",
       "      <th>Coordinates</th>\n",
       "      <th>Remarks</th>\n",
       "      <th>CountryCode</th>\n",
       "      <th>CountryName</th>\n",
       "    </tr>\n",
       "  </thead>\n",
       "  <tbody>\n",
       "    <tr>\n",
       "      <th>0</th>\n",
       "      <td>AU</td>\n",
       "      <td>ALO</td>\n",
       "      <td>Adelong</td>\n",
       "      <td>Adelong</td>\n",
       "      <td>NSW</td>\n",
       "      <td>RL</td>\n",
       "      <td>3</td>\n",
       "      <td>607.0</td>\n",
       "      <td>NaN</td>\n",
       "      <td>3519S 14804E</td>\n",
       "      <td>NaN</td>\n",
       "      <td>AU</td>\n",
       "      <td>Australia</td>\n",
       "    </tr>\n",
       "    <tr>\n",
       "      <th>1</th>\n",
       "      <td>AU</td>\n",
       "      <td>ANB</td>\n",
       "      <td>Agnes Bank</td>\n",
       "      <td>Agnes Bank</td>\n",
       "      <td>NSW</td>\n",
       "      <td>RL</td>\n",
       "      <td>3</td>\n",
       "      <td>1501.0</td>\n",
       "      <td>NaN</td>\n",
       "      <td>3336S 15042E</td>\n",
       "      <td>NaN</td>\n",
       "      <td>AU</td>\n",
       "      <td>Australia</td>\n",
       "    </tr>\n",
       "    <tr>\n",
       "      <th>2</th>\n",
       "      <td>AU</td>\n",
       "      <td>AGW</td>\n",
       "      <td>Agnew</td>\n",
       "      <td>Agnew</td>\n",
       "      <td>QLD</td>\n",
       "      <td>AI</td>\n",
       "      <td>4</td>\n",
       "      <td>9601.0</td>\n",
       "      <td>NaN</td>\n",
       "      <td>NaN</td>\n",
       "      <td>NaN</td>\n",
       "      <td>AU</td>\n",
       "      <td>Australia</td>\n",
       "    </tr>\n",
       "    <tr>\n",
       "      <th>3</th>\n",
       "      <td>AU</td>\n",
       "      <td>WSY</td>\n",
       "      <td>Airlie Beach</td>\n",
       "      <td>Airlie Beach</td>\n",
       "      <td>QLD</td>\n",
       "      <td>AI</td>\n",
       "      <td>4</td>\n",
       "      <td>9912.0</td>\n",
       "      <td>NaN</td>\n",
       "      <td>NaN</td>\n",
       "      <td>NaN</td>\n",
       "      <td>AU</td>\n",
       "      <td>Australia</td>\n",
       "    </tr>\n",
       "    <tr>\n",
       "      <th>4</th>\n",
       "      <td>AU</td>\n",
       "      <td>AIR</td>\n",
       "      <td>Airlie Terminal</td>\n",
       "      <td>Airlie Terminal</td>\n",
       "      <td>WA</td>\n",
       "      <td>RL</td>\n",
       "      <td>1</td>\n",
       "      <td>212.0</td>\n",
       "      <td>NaN</td>\n",
       "      <td>2120S 11510E</td>\n",
       "      <td>Airlie Island</td>\n",
       "      <td>AU</td>\n",
       "      <td>Australia</td>\n",
       "    </tr>\n",
       "  </tbody>\n",
       "</table>\n",
       "</div>"
      ],
      "text/plain": [
       "  Country Location             Name NameWoDiacritics Subdivision Status  \\\n",
       "0      AU      ALO          Adelong          Adelong         NSW     RL   \n",
       "1      AU      ANB       Agnes Bank       Agnes Bank         NSW     RL   \n",
       "2      AU      AGW            Agnew            Agnew         QLD     AI   \n",
       "3      AU      WSY     Airlie Beach     Airlie Beach         QLD     AI   \n",
       "4      AU      AIR  Airlie Terminal  Airlie Terminal          WA     RL   \n",
       "\n",
       "  Function    Date IATA   Coordinates        Remarks CountryCode CountryName  \n",
       "0        3   607.0  NaN  3519S 14804E            NaN          AU   Australia  \n",
       "1        3  1501.0  NaN  3336S 15042E            NaN          AU   Australia  \n",
       "2        4  9601.0  NaN           NaN            NaN          AU   Australia  \n",
       "3        4  9912.0  NaN           NaN            NaN          AU   Australia  \n",
       "4        1   212.0  NaN  2120S 11510E  Airlie Island          AU   Australia  "
      ]
     },
     "execution_count": 47,
     "metadata": {},
     "output_type": "execute_result"
    }
   ],
   "source": [
    "merged_df_1.head()"
   ]
  },
  {
   "cell_type": "code",
   "execution_count": 48,
   "metadata": {
    "collapsed": true
   },
   "outputs": [],
   "source": [
    "#coding for merged dataframe \n",
    "merged_final_df = pd.merge(merged_df_1,functionDF, left_on='Function',right_on ='FunctionCode',how ='left')"
   ]
  },
  {
   "cell_type": "code",
   "execution_count": 49,
   "metadata": {},
   "outputs": [
    {
     "data": {
      "text/html": [
       "<div>\n",
       "<style>\n",
       "    .dataframe thead tr:only-child th {\n",
       "        text-align: right;\n",
       "    }\n",
       "\n",
       "    .dataframe thead th {\n",
       "        text-align: left;\n",
       "    }\n",
       "\n",
       "    .dataframe tbody tr th {\n",
       "        vertical-align: top;\n",
       "    }\n",
       "</style>\n",
       "<table border=\"1\" class=\"dataframe\">\n",
       "  <thead>\n",
       "    <tr style=\"text-align: right;\">\n",
       "      <th></th>\n",
       "      <th>Country</th>\n",
       "      <th>Location</th>\n",
       "      <th>Name</th>\n",
       "      <th>NameWoDiacritics</th>\n",
       "      <th>Subdivision</th>\n",
       "      <th>Status</th>\n",
       "      <th>Function</th>\n",
       "      <th>Date</th>\n",
       "      <th>IATA</th>\n",
       "      <th>Coordinates</th>\n",
       "      <th>Remarks</th>\n",
       "      <th>CountryCode</th>\n",
       "      <th>CountryName</th>\n",
       "      <th>FunctionCode</th>\n",
       "      <th>FunctionDescription</th>\n",
       "    </tr>\n",
       "  </thead>\n",
       "  <tbody>\n",
       "    <tr>\n",
       "      <th>0</th>\n",
       "      <td>AU</td>\n",
       "      <td>ALO</td>\n",
       "      <td>Adelong</td>\n",
       "      <td>Adelong</td>\n",
       "      <td>NSW</td>\n",
       "      <td>RL</td>\n",
       "      <td>3</td>\n",
       "      <td>607.0</td>\n",
       "      <td>NaN</td>\n",
       "      <td>3519S 14804E</td>\n",
       "      <td>NaN</td>\n",
       "      <td>AU</td>\n",
       "      <td>Australia</td>\n",
       "      <td>3</td>\n",
       "      <td>Road Terminal</td>\n",
       "    </tr>\n",
       "    <tr>\n",
       "      <th>1</th>\n",
       "      <td>AU</td>\n",
       "      <td>ANB</td>\n",
       "      <td>Agnes Bank</td>\n",
       "      <td>Agnes Bank</td>\n",
       "      <td>NSW</td>\n",
       "      <td>RL</td>\n",
       "      <td>3</td>\n",
       "      <td>1501.0</td>\n",
       "      <td>NaN</td>\n",
       "      <td>3336S 15042E</td>\n",
       "      <td>NaN</td>\n",
       "      <td>AU</td>\n",
       "      <td>Australia</td>\n",
       "      <td>3</td>\n",
       "      <td>Road Terminal</td>\n",
       "    </tr>\n",
       "    <tr>\n",
       "      <th>2</th>\n",
       "      <td>AU</td>\n",
       "      <td>AGW</td>\n",
       "      <td>Agnew</td>\n",
       "      <td>Agnew</td>\n",
       "      <td>QLD</td>\n",
       "      <td>AI</td>\n",
       "      <td>4</td>\n",
       "      <td>9601.0</td>\n",
       "      <td>NaN</td>\n",
       "      <td>NaN</td>\n",
       "      <td>NaN</td>\n",
       "      <td>AU</td>\n",
       "      <td>Australia</td>\n",
       "      <td>4</td>\n",
       "      <td>Airport</td>\n",
       "    </tr>\n",
       "    <tr>\n",
       "      <th>3</th>\n",
       "      <td>AU</td>\n",
       "      <td>WSY</td>\n",
       "      <td>Airlie Beach</td>\n",
       "      <td>Airlie Beach</td>\n",
       "      <td>QLD</td>\n",
       "      <td>AI</td>\n",
       "      <td>4</td>\n",
       "      <td>9912.0</td>\n",
       "      <td>NaN</td>\n",
       "      <td>NaN</td>\n",
       "      <td>NaN</td>\n",
       "      <td>AU</td>\n",
       "      <td>Australia</td>\n",
       "      <td>4</td>\n",
       "      <td>Airport</td>\n",
       "    </tr>\n",
       "    <tr>\n",
       "      <th>4</th>\n",
       "      <td>AU</td>\n",
       "      <td>AIR</td>\n",
       "      <td>Airlie Terminal</td>\n",
       "      <td>Airlie Terminal</td>\n",
       "      <td>WA</td>\n",
       "      <td>RL</td>\n",
       "      <td>1</td>\n",
       "      <td>212.0</td>\n",
       "      <td>NaN</td>\n",
       "      <td>2120S 11510E</td>\n",
       "      <td>Airlie Island</td>\n",
       "      <td>AU</td>\n",
       "      <td>Australia</td>\n",
       "      <td>1</td>\n",
       "      <td>Port, as defined in Rec 16</td>\n",
       "    </tr>\n",
       "  </tbody>\n",
       "</table>\n",
       "</div>"
      ],
      "text/plain": [
       "  Country Location             Name NameWoDiacritics Subdivision Status  \\\n",
       "0      AU      ALO          Adelong          Adelong         NSW     RL   \n",
       "1      AU      ANB       Agnes Bank       Agnes Bank         NSW     RL   \n",
       "2      AU      AGW            Agnew            Agnew         QLD     AI   \n",
       "3      AU      WSY     Airlie Beach     Airlie Beach         QLD     AI   \n",
       "4      AU      AIR  Airlie Terminal  Airlie Terminal          WA     RL   \n",
       "\n",
       "  Function    Date IATA   Coordinates        Remarks CountryCode CountryName  \\\n",
       "0        3   607.0  NaN  3519S 14804E            NaN          AU   Australia   \n",
       "1        3  1501.0  NaN  3336S 15042E            NaN          AU   Australia   \n",
       "2        4  9601.0  NaN           NaN            NaN          AU   Australia   \n",
       "3        4  9912.0  NaN           NaN            NaN          AU   Australia   \n",
       "4        1   212.0  NaN  2120S 11510E  Airlie Island          AU   Australia   \n",
       "\n",
       "  FunctionCode         FunctionDescription  \n",
       "0            3               Road Terminal  \n",
       "1            3               Road Terminal  \n",
       "2            4                     Airport  \n",
       "3            4                     Airport  \n",
       "4            1  Port, as defined in Rec 16  "
      ]
     },
     "execution_count": 49,
     "metadata": {},
     "output_type": "execute_result"
    }
   ],
   "source": [
    "merged_final_df.head()"
   ]
  },
  {
   "cell_type": "code",
   "execution_count": 50,
   "metadata": {},
   "outputs": [
    {
     "data": {
      "text/plain": [
       "(84966, 15)"
      ]
     },
     "execution_count": 50,
     "metadata": {},
     "output_type": "execute_result"
    }
   ],
   "source": [
    "merged_final_df.shape"
   ]
  },
  {
   "cell_type": "code",
   "execution_count": 51,
   "metadata": {},
   "outputs": [
    {
     "name": "stdout",
     "output_type": "stream",
     "text": [
      "<class 'pandas.core.frame.DataFrame'>\n",
      "Int64Index: 84966 entries, 0 to 84965\n",
      "Data columns (total 15 columns):\n",
      "Country                84966 non-null object\n",
      "Location               84966 non-null object\n",
      "Name                   84966 non-null object\n",
      "NameWoDiacritics       84966 non-null object\n",
      "Subdivision            73433 non-null object\n",
      "Status                 84962 non-null object\n",
      "Function               84966 non-null object\n",
      "Date                   84942 non-null float64\n",
      "IATA                   351 non-null object\n",
      "Coordinates            62642 non-null object\n",
      "Remarks                697 non-null object\n",
      "CountryCode            84966 non-null object\n",
      "CountryName            84966 non-null object\n",
      "FunctionCode           84966 non-null object\n",
      "FunctionDescription    84966 non-null object\n",
      "dtypes: float64(1), object(14)\n",
      "memory usage: 10.4+ MB\n"
     ]
    }
   ],
   "source": [
    "merged_final_df.info()"
   ]
  },
  {
   "cell_type": "markdown",
   "metadata": {},
   "source": [
    "Distribution of non Null Values looks appropriate in the final merged dataset"
   ]
  },
  {
   "cell_type": "markdown",
   "metadata": {},
   "source": [
    "#### Splitting Lattitude and Longitude in to be processed separately and performing basic sanity checks"
   ]
  },
  {
   "cell_type": "code",
   "execution_count": 52,
   "metadata": {
    "collapsed": true
   },
   "outputs": [],
   "source": [
    "merged_final_df[['Lattitude','Longitude']] =  merged_final_df['Coordinates'].loc[merged_final_df['Coordinates'].str.split().str.len() == 2].str.split(expand=True)"
   ]
  },
  {
   "cell_type": "code",
   "execution_count": 53,
   "metadata": {},
   "outputs": [
    {
     "data": {
      "text/html": [
       "<div>\n",
       "<style>\n",
       "    .dataframe thead tr:only-child th {\n",
       "        text-align: right;\n",
       "    }\n",
       "\n",
       "    .dataframe thead th {\n",
       "        text-align: left;\n",
       "    }\n",
       "\n",
       "    .dataframe tbody tr th {\n",
       "        vertical-align: top;\n",
       "    }\n",
       "</style>\n",
       "<table border=\"1\" class=\"dataframe\">\n",
       "  <thead>\n",
       "    <tr style=\"text-align: right;\">\n",
       "      <th></th>\n",
       "      <th>Country</th>\n",
       "      <th>Location</th>\n",
       "      <th>Name</th>\n",
       "      <th>NameWoDiacritics</th>\n",
       "      <th>Subdivision</th>\n",
       "      <th>Status</th>\n",
       "      <th>Function</th>\n",
       "      <th>Date</th>\n",
       "      <th>IATA</th>\n",
       "      <th>Coordinates</th>\n",
       "      <th>Remarks</th>\n",
       "      <th>CountryCode</th>\n",
       "      <th>CountryName</th>\n",
       "      <th>FunctionCode</th>\n",
       "      <th>FunctionDescription</th>\n",
       "      <th>Lattitude</th>\n",
       "      <th>Longitude</th>\n",
       "    </tr>\n",
       "  </thead>\n",
       "  <tbody>\n",
       "  </tbody>\n",
       "</table>\n",
       "</div>"
      ],
      "text/plain": [
       "Empty DataFrame\n",
       "Columns: [Country, Location, Name, NameWoDiacritics, Subdivision, Status, Function, Date, IATA, Coordinates, Remarks, CountryCode, CountryName, FunctionCode, FunctionDescription, Lattitude, Longitude]\n",
       "Index: []"
      ]
     },
     "execution_count": 53,
     "metadata": {},
     "output_type": "execute_result"
    }
   ],
   "source": [
    "# Checking for values with only alphabets\n",
    "merged_final_df[merged_final_df['Lattitude'].str.contains('^0-9')==True]"
   ]
  },
  {
   "cell_type": "code",
   "execution_count": 54,
   "metadata": {},
   "outputs": [
    {
     "data": {
      "text/html": [
       "<div>\n",
       "<style>\n",
       "    .dataframe thead tr:only-child th {\n",
       "        text-align: right;\n",
       "    }\n",
       "\n",
       "    .dataframe thead th {\n",
       "        text-align: left;\n",
       "    }\n",
       "\n",
       "    .dataframe tbody tr th {\n",
       "        vertical-align: top;\n",
       "    }\n",
       "</style>\n",
       "<table border=\"1\" class=\"dataframe\">\n",
       "  <thead>\n",
       "    <tr style=\"text-align: right;\">\n",
       "      <th></th>\n",
       "      <th>Country</th>\n",
       "      <th>Location</th>\n",
       "      <th>Name</th>\n",
       "      <th>NameWoDiacritics</th>\n",
       "      <th>Subdivision</th>\n",
       "      <th>Status</th>\n",
       "      <th>Function</th>\n",
       "      <th>Date</th>\n",
       "      <th>IATA</th>\n",
       "      <th>Coordinates</th>\n",
       "      <th>Remarks</th>\n",
       "      <th>CountryCode</th>\n",
       "      <th>CountryName</th>\n",
       "      <th>FunctionCode</th>\n",
       "      <th>FunctionDescription</th>\n",
       "      <th>Lattitude</th>\n",
       "      <th>Longitude</th>\n",
       "    </tr>\n",
       "  </thead>\n",
       "  <tbody>\n",
       "  </tbody>\n",
       "</table>\n",
       "</div>"
      ],
      "text/plain": [
       "Empty DataFrame\n",
       "Columns: [Country, Location, Name, NameWoDiacritics, Subdivision, Status, Function, Date, IATA, Coordinates, Remarks, CountryCode, CountryName, FunctionCode, FunctionDescription, Lattitude, Longitude]\n",
       "Index: []"
      ]
     },
     "execution_count": 54,
     "metadata": {},
     "output_type": "execute_result"
    }
   ],
   "source": [
    "# Checking for values with only alphabets\n",
    "merged_final_df[merged_final_df['Longitude'].str.contains('^0-9')==True]"
   ]
  },
  {
   "cell_type": "markdown",
   "metadata": {},
   "source": [
    "Coordinate Data seems to be bit erroneous as a lot of records don't follow the Degrees Minutes format apprpriately"
   ]
  },
  {
   "cell_type": "markdown",
   "metadata": {},
   "source": [
    "#### Converting Coordinates in DDMM[N/S] DDMM[W/E] to Decimal Degree Format\n",
    "\n",
    "Basic Idea on Lat/Long Notation\n",
    "https://www.maptools.com/tutorials/lat_lon/formats\n",
    "\n",
    "We have Lattitude/Longitude Data in DDMM[N/S] DDDMM[W/E] format and we need it in Degrees Decimal Format. We just need to convert the Minutes to degress and add to the deegress already present.\n",
    "\n",
    "* 1° = 60 Mins\n",
    "\n",
    "* 1 Min = (1/60)°\n",
    "\n",
    "Also,Positive values of latitude are north of the equator, negative values to the south. Watch the sign on the longitude, most programs use negative values for west longitude, but a few are opposite.\n",
    "\n",
    "I'll use this basic conversion by parsing the dataframe column and apply a function.\n"
   ]
  },
  {
   "cell_type": "code",
   "execution_count": 55,
   "metadata": {
    "collapsed": true
   },
   "outputs": [],
   "source": [
    "##This logic should be able to parse both  DDMM[N/S] & DDDMM[W/E] \n",
    "\n",
    "def DegMin2DegDeci(x):\n",
    "    x = str(x)\n",
    "    direction = None\n",
    "    # extract degrees\n",
    "    if len(x) == 5:\n",
    "        direction = x[-1]\n",
    "        mins = x[-3:-1]\n",
    "        degrees = x[:2]\n",
    "        degdec = float(degrees) + float(mins)/60\n",
    "    elif len(x) == 6:\n",
    "        direction = x[-1]\n",
    "        mins = x[-3:-1]\n",
    "        degrees = x[:3]\n",
    "        degdec = float(degrees) + float(mins)/60\n",
    "    else:\n",
    "        degdec = None\n",
    "    \n",
    "    \n",
    "    \n",
    "    if direction in ('S','W'):\n",
    "        degdec*= -1\n",
    "    \n",
    "    return degdec"
   ]
  },
  {
   "cell_type": "code",
   "execution_count": 56,
   "metadata": {},
   "outputs": [
    {
     "data": {
      "text/plain": [
       "148.06666666666666"
      ]
     },
     "execution_count": 56,
     "metadata": {},
     "output_type": "execute_result"
    }
   ],
   "source": [
    "DegMin2DegDeci('14804E')"
   ]
  },
  {
   "cell_type": "code",
   "execution_count": 57,
   "metadata": {},
   "outputs": [],
   "source": [
    "## Testing DegMin2DegDeci('3519S') -35.31666666666667"
   ]
  },
  {
   "cell_type": "code",
   "execution_count": 58,
   "metadata": {},
   "outputs": [],
   "source": [
    "## Testing DegMin2DegDeci('14804E') 148.06666666666666"
   ]
  },
  {
   "cell_type": "code",
   "execution_count": 59,
   "metadata": {},
   "outputs": [],
   "source": [
    "merged_final_df['Lattitude'] = merged_final_df['Lattitude'].apply(lambda x: DegMin2DegDeci(x))\n"
   ]
  },
  {
   "cell_type": "code",
   "execution_count": 60,
   "metadata": {},
   "outputs": [],
   "source": [
    "merged_final_df['Longitude'] = merged_final_df['Longitude'].apply(lambda x: DegMin2DegDeci(x))"
   ]
  },
  {
   "cell_type": "code",
   "execution_count": 61,
   "metadata": {},
   "outputs": [],
   "source": [
    "final_DF = merged_final_df[['Country','CountryName','Location','Name','FunctionDescription','Longitude','Lattitude']]"
   ]
  },
  {
   "cell_type": "code",
   "execution_count": 62,
   "metadata": {
    "collapsed": true
   },
   "outputs": [],
   "source": [
    "# renaming Columns appropriately as expected\n",
    "final_DF.rename(columns={'Country':'Country_code',\n",
    "                         'CountryName':'country_name',\n",
    "                         'Location':'Location_code',\n",
    "                         'Name':'Location_Name',\n",
    "                         'FunctionDescription':'Location_Type'\n",
    "                        },inplace=True)"
   ]
  },
  {
   "cell_type": "code",
   "execution_count": 63,
   "metadata": {},
   "outputs": [
    {
     "data": {
      "text/html": [
       "<div>\n",
       "<style>\n",
       "    .dataframe thead tr:only-child th {\n",
       "        text-align: right;\n",
       "    }\n",
       "\n",
       "    .dataframe thead th {\n",
       "        text-align: left;\n",
       "    }\n",
       "\n",
       "    .dataframe tbody tr th {\n",
       "        vertical-align: top;\n",
       "    }\n",
       "</style>\n",
       "<table border=\"1\" class=\"dataframe\">\n",
       "  <thead>\n",
       "    <tr style=\"text-align: right;\">\n",
       "      <th></th>\n",
       "      <th>Country_code</th>\n",
       "      <th>country_name</th>\n",
       "      <th>Location_code</th>\n",
       "      <th>Location_Name</th>\n",
       "      <th>Location_Type</th>\n",
       "      <th>Longitude</th>\n",
       "      <th>Lattitude</th>\n",
       "    </tr>\n",
       "  </thead>\n",
       "  <tbody>\n",
       "    <tr>\n",
       "      <th>0</th>\n",
       "      <td>AU</td>\n",
       "      <td>Australia</td>\n",
       "      <td>ALO</td>\n",
       "      <td>Adelong</td>\n",
       "      <td>Road Terminal</td>\n",
       "      <td>148.066667</td>\n",
       "      <td>-35.316667</td>\n",
       "    </tr>\n",
       "    <tr>\n",
       "      <th>1</th>\n",
       "      <td>AU</td>\n",
       "      <td>Australia</td>\n",
       "      <td>ANB</td>\n",
       "      <td>Agnes Bank</td>\n",
       "      <td>Road Terminal</td>\n",
       "      <td>150.700000</td>\n",
       "      <td>-33.600000</td>\n",
       "    </tr>\n",
       "    <tr>\n",
       "      <th>2</th>\n",
       "      <td>AU</td>\n",
       "      <td>Australia</td>\n",
       "      <td>AGW</td>\n",
       "      <td>Agnew</td>\n",
       "      <td>Airport</td>\n",
       "      <td>NaN</td>\n",
       "      <td>NaN</td>\n",
       "    </tr>\n",
       "    <tr>\n",
       "      <th>3</th>\n",
       "      <td>AU</td>\n",
       "      <td>Australia</td>\n",
       "      <td>WSY</td>\n",
       "      <td>Airlie Beach</td>\n",
       "      <td>Airport</td>\n",
       "      <td>NaN</td>\n",
       "      <td>NaN</td>\n",
       "    </tr>\n",
       "    <tr>\n",
       "      <th>4</th>\n",
       "      <td>AU</td>\n",
       "      <td>Australia</td>\n",
       "      <td>AIR</td>\n",
       "      <td>Airlie Terminal</td>\n",
       "      <td>Port, as defined in Rec 16</td>\n",
       "      <td>115.166667</td>\n",
       "      <td>-21.333333</td>\n",
       "    </tr>\n",
       "  </tbody>\n",
       "</table>\n",
       "</div>"
      ],
      "text/plain": [
       "  Country_code country_name Location_code    Location_Name  \\\n",
       "0           AU    Australia           ALO          Adelong   \n",
       "1           AU    Australia           ANB       Agnes Bank   \n",
       "2           AU    Australia           AGW            Agnew   \n",
       "3           AU    Australia           WSY     Airlie Beach   \n",
       "4           AU    Australia           AIR  Airlie Terminal   \n",
       "\n",
       "                Location_Type   Longitude  Lattitude  \n",
       "0               Road Terminal  148.066667 -35.316667  \n",
       "1               Road Terminal  150.700000 -33.600000  \n",
       "2                     Airport         NaN        NaN  \n",
       "3                     Airport         NaN        NaN  \n",
       "4  Port, as defined in Rec 16  115.166667 -21.333333  "
      ]
     },
     "execution_count": 63,
     "metadata": {},
     "output_type": "execute_result"
    }
   ],
   "source": [
    "final_DF.head()"
   ]
  },
  {
   "cell_type": "code",
   "execution_count": 64,
   "metadata": {},
   "outputs": [],
   "source": [
    "final_DF.to_csv('geo_location.csv',sep = ',', index = False)"
   ]
  }
 ],
 "metadata": {
  "kernelspec": {
   "display_name": "Python 3",
   "language": "python",
   "name": "python3"
  },
  "language_info": {
   "codemirror_mode": {
    "name": "ipython",
    "version": 3
   },
   "file_extension": ".py",
   "mimetype": "text/x-python",
   "name": "python",
   "nbconvert_exporter": "python",
   "pygments_lexer": "ipython3",
   "version": "3.6.1"
  }
 },
 "nbformat": 4,
 "nbformat_minor": 2
}
